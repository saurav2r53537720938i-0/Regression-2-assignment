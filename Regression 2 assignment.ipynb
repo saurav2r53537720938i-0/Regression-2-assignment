{
 "cells": [
  {
   "cell_type": "markdown",
   "id": "3a37522d-31af-4831-87eb-f920fe82073c",
   "metadata": {},
   "source": [
    "R squared also know as the cofficent of determination,is a statistical measure used to assess the goodness of fit of a linear regression model.It reprsent the proportion of the variance in the independent variable that is predictable from the indpendent variable(s) in the model.R square is calculated by taking the ratio of the explaned \n",
    "variance to the total variance.R squared value range from 0to1.a"
   ]
  },
  {
   "cell_type": "markdown",
   "id": "aeaef81c-c42c-40e2-a356-c05774baf6c8",
   "metadata": {},
   "source": [
    "Adjusted R squared is a modified version of R squared that adjusts for the number of predictor in the model it penalize the addtion of unnecessary predictors that do not improve the model explantory power.Adjusted R squared typically provides a more conservative estimate of the model goodness of fit compared to the regular R shaped it tends to be lower when addtional predictor are included in the model especially if those predictors do not substantially iimprove the model with difrrent number of predictor and slecting the most parsimonus model that adequately explains the variablity in the data."
   ]
  },
  {
   "cell_type": "markdown",
   "id": "70e5b2ac-aa57-4fcb-900c-485e9edf9ccd",
   "metadata": {},
   "source": [
    "Adujsted  R squared is more apporpriate to use when compariing multiple regression models with diffrent numbers of predictor it helps to account for the potential overliffting that can occur when adding more predictor to a model here are some situations when adjusted R squared is particularly useful.\n",
    "1. Model Comparsion\n",
    "2. Variable Selection\n",
    "3. Preventing Overfitting\n",
    "4. Sample Size Consideration"
   ]
  },
  {
   "cell_type": "code",
   "execution_count": null,
   "id": "30744a91-513d-42c5-a149-ebcc64732540",
   "metadata": {},
   "outputs": [],
   "source": []
  }
 ],
 "metadata": {
  "kernelspec": {
   "display_name": "Python 3 (ipykernel)",
   "language": "python",
   "name": "python3"
  },
  "language_info": {
   "codemirror_mode": {
    "name": "ipython",
    "version": 3
   },
   "file_extension": ".py",
   "mimetype": "text/x-python",
   "name": "python",
   "nbconvert_exporter": "python",
   "pygments_lexer": "ipython3",
   "version": "3.10.8"
  }
 },
 "nbformat": 4,
 "nbformat_minor": 5
}
